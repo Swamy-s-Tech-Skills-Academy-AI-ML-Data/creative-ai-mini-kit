{
 "cells": [
  {
   "cell_type": "markdown",
   "id": "706dbf20",
   "metadata": {},
   "source": [
    "# Exploring OpenAI API"
   ]
  },
  {
   "cell_type": "markdown",
   "id": "d98a231e",
   "metadata": {},
   "source": [
    "## Task 1: Import Required Modules and Packages"
   ]
  },
  {
   "cell_type": "markdown",
   "id": "dcafee87",
   "metadata": {},
   "source": [
    "This section imports all the necessary libraries and modules that will be used throughout this notebook for interacting with OpenAI's API, data manipulation, file handling, and visualization."
   ]
  },
  {
   "cell_type": "code",
   "execution_count": null,
   "id": "b693f6a0",
   "metadata": {},
   "outputs": [],
   "source": [
    "from openai import OpenAI\n",
    "import pandas as pd\n",
    "import requests\n",
    "from datetime import datetime\n",
    "from pprint import pprint\n",
    "import tiktoken\n",
    "from pypdf import PdfReader\n",
    "from IPython.display import Image, Markdown, display\n",
    "import os\n",
    "import matplotlib.pyplot as plt\n",
    "import matplotlib.image as mpimg"
   ]
  },
  {
   "cell_type": "markdown",
   "id": "81dead61",
   "metadata": {},
   "source": [
    "## Task 2: Set Up API Key"
   ]
  },
  {
   "cell_type": "markdown",
   "id": "82825016",
   "metadata": {},
   "source": [
    "This section initializes the OpenAI client using your API key stored as an environment variable. This client will be used for all interactions with OpenAI's models."
   ]
  },
  {
   "cell_type": "code",
   "execution_count": null,
   "id": "ee880dd4",
   "metadata": {},
   "outputs": [],
   "source": [
    "client = OpenAI(api_key=os.getenv(\"OPENAI_API_KEY\"))"
   ]
  },
  {
   "cell_type": "markdown",
   "id": "0538ca94",
   "metadata": {},
   "source": [
    "## Task 2.1: Configure Pandas Display Options"
   ]
  },
  {
   "cell_type": "markdown",
   "id": "71aed522",
   "metadata": {},
   "source": [
    "This section sets up display options for pandas DataFrames to ensure that content is shown properly without truncation, and defines a helper function to format DataFrames with improved styling."
   ]
  },
  {
   "cell_type": "code",
   "execution_count": null,
   "id": "80252e38",
   "metadata": {},
   "outputs": [],
   "source": [
    "pd.set_option('display.max_colwidth', None)\n",
    "\n",
    "\n",
    "def pp(df):\n",
    "    return display(df.style.set_properties(subset=['emails'], **{'text-align': 'left', 'white-space': 'pre-wrap', 'width': '900px'}))"
   ]
  },
  {
   "cell_type": "markdown",
   "id": "ec9a9289",
   "metadata": {},
   "source": [
    "## Task 3: Define Folder Paths and Review Data"
   ]
  },
  {
   "cell_type": "markdown",
   "id": "8cd0b467",
   "metadata": {},
   "source": [
    "This section establishes folder paths for storing reviews and generated emails, and defines a list of example customer reviews that will be used for generating response emails."
   ]
  },
  {
   "cell_type": "code",
   "execution_count": null,
   "id": "8aeab7cc",
   "metadata": {},
   "outputs": [],
   "source": [
    "# Path to the 'reviews' folder\n",
    "reviews_folder = \"./reviews\"\n",
    "\n",
    "# Path to the 'emails' folder\n",
    "emails_folder = \"./emails\"\n",
    "\n",
    "# List of reviews\n",
    "reviews = [\n",
    "    \"These hiking boots exceeded my expectations. Great ankle support and waterproofing that actually works when crossing streams. Perfect for day hikes and weekend backpacking trips.\",\n",
    "    \"The sci-fi trilogy by Marcus Chen kept me on the edge of my seat! Incredible world-building and character development throughout all three books. Really hoping they adapt this for a streaming series soon!\",\n",
    "    \"This coffee maker is remarkably quiet compared to my previous one. Brews quickly and maintains perfect temperature. Definitely recommend for any coffee enthusiast.\",\n",
    "    \"The jacket runs slightly large and the material is heavier than what I expected based on the description. Had to return it and size down. The quality seems good but it's not ideal for transitional weather as advertised.\",\n",
    "    \"Absolutely impressed with these noise-cancelling headphones. Crystal clear audio without distortion even at high volumes, and the battery lasts for days. Worth every penny.\",\n",
    "    \"Purchased this smart watch last month and I'm thoroughly impressed. The fitness tracking is accurate, and the sleep monitoring has been eye-opening. The band is comfortable for all-day wear, though the charging cable is a bit finicky. Overall, it's become an essential part of my daily routine and the battery easily lasts 3-4 days on a single charge.\"\n",
    "]"
   ]
  },
  {
   "cell_type": "markdown",
   "id": "8db7f9b2",
   "metadata": {},
   "source": [
    "## Task 4: Create Review Files if Not Already Present"
   ]
  },
  {
   "cell_type": "markdown",
   "id": "79c84e53",
   "metadata": {},
   "source": [
    "This section creates individual text files for each customer review, saving them to the reviews folder with proper error handling to ensure all files are created successfully."
   ]
  },
  {
   "cell_type": "code",
   "execution_count": null,
   "id": "c316daaa",
   "metadata": {},
   "outputs": [],
   "source": [
    "# Create the review files in the 'emails' folder with error handling\n",
    "for i, review in enumerate(reviews, start=1):\n",
    "    file_path = os.path.join(reviews_folder, f\"review{i}.txt\")\n",
    "    try:\n",
    "        with open(file_path, \"w\", encoding=\"utf-8\") as file:\n",
    "            file.write(review)\n",
    "        print(f\"✅ Successfully created: {file_path}\")\n",
    "    except OSError as e:\n",
    "        print(f\"❌ Error writing to {file_path}: {e}\")\n",
    "\n",
    "print(\n",
    "    f\"\\nAll review files have been created in the '{reviews_folder}' folder.\")"
   ]
  },
  {
   "cell_type": "markdown",
   "id": "59935b04",
   "metadata": {},
   "source": [
    "## Task 5: Read Reviews from .txt Files"
   ]
  },
  {
   "cell_type": "markdown",
   "id": "0f26d2a6",
   "metadata": {},
   "source": [
    "This section reads all the review files from the reviews folder, loads them into a pandas DataFrame for organized processing, and displays the data for verification."
   ]
  },
  {
   "cell_type": "code",
   "execution_count": null,
   "id": "52b3bbe0",
   "metadata": {},
   "outputs": [],
   "source": [
    "# Ensure the folder exists before reading files\n",
    "if not os.path.exists(reviews_folder):\n",
    "    raise FileNotFoundError(\n",
    "        f\"The folder '{reviews_folder}' does not exist. Please create it and add review files.\")\n",
    "\n",
    "# Read all .txt files from the 'reviews' folder\n",
    "reviews = []\n",
    "for filename in sorted(os.listdir(reviews_folder)):\n",
    "    if filename.endswith(\".txt\"):\n",
    "        file_path = os.path.join(reviews_folder, filename)\n",
    "        with open(file_path, \"r\", encoding=\"utf-8\") as file:\n",
    "            reviews.append(file.read().strip())\n",
    "\n",
    "# Load reviews into a DataFrame\n",
    "columns = ['reviews', 'emails']\n",
    "df = pd.DataFrame(columns=columns)\n",
    "df['reviews'] = reviews\n",
    "\n",
    "# Display the DataFrame\n",
    "df.head()"
   ]
  },
  {
   "cell_type": "markdown",
   "id": "ae932b46",
   "metadata": {},
   "source": [
    "## Task 6: Generate Emails for Reviews"
   ]
  },
  {
   "cell_type": "markdown",
   "id": "da25dbba",
   "metadata": {},
   "source": [
    "This section uses OpenAI's GPT model to generate professional customer service email responses to each review. The emails are tailored to thank customers for positive feedback and address concerns in a professional manner, then saved to individual text files."
   ]
  },
  {
   "cell_type": "code",
   "execution_count": null,
   "id": "0493344e",
   "metadata": {},
   "outputs": [],
   "source": [
    "chat = [{\"role\": \"system\",\n",
    "         \"content\": \"You are a polite customer support representative.\"}]\n",
    "\n",
    "postfix = (\n",
    "    \"\\n\\nWrite a professional email responding to customer reviews.\\n\"\n",
    "    \"- Thank customers for positive feedback.\\n\"\n",
    "    \"- Acknowledge and address concerns professionally.\\n\"\n",
    "    \"- Encourage continued engagement with the brand.\\n\"\n",
    "    \"- Keep responses brief and highly professional.\\n\"\n",
    "    \"- Do not offer promotions, discounts, or recommend other products.\"\n",
    ")\n",
    "\n",
    "\n",
    "def getMail(review):\n",
    "    chat_history = chat.copy()\n",
    "    chat_history.append({\"role\": \"user\", \"content\": review+postfix})\n",
    "\n",
    "    reply = client.chat.completions.create(\n",
    "        model=\"gpt-3.5-turbo-1106\",\n",
    "        messages=chat_history\n",
    "    )\n",
    "\n",
    "    return reply.choices[0].message.content\n",
    "\n",
    "\n",
    "# Ensure the folder exists\n",
    "if not os.path.exists(emails_folder):\n",
    "    os.makedirs(emails_folder)\n",
    "\n",
    "df['emails'] = df.apply(lambda x: getMail(x.reviews), axis=1)\n",
    "\n",
    "# Save emails to files\n",
    "for index, row in df.iterrows():\n",
    "    response = row['emails']\n",
    "\n",
    "    # A. Check if the response is OK\n",
    "    if response:\n",
    "        print(\"✅ Response received successfully.\")\n",
    "\n",
    "        # B. Save the content inside reviewx_email.txt\n",
    "        email_file_path = os.path.join(\n",
    "            emails_folder, f\"review{index+1}_email.txt\")\n",
    "        try:\n",
    "            with open(email_file_path, \"w\", encoding=\"utf-8\") as email_file:\n",
    "                email_file.write(response)\n",
    "            print(f\"✅ Email content saved to: {email_file_path}\")\n",
    "        except OSError as e:\n",
    "            print(f\"❌ Error saving email content to {email_file_path}: {e}\")\n",
    "    else:\n",
    "        print(\"❌ No response received from OpenAI.\")\n",
    "\n",
    "pp(df)"
   ]
  },
  {
   "cell_type": "markdown",
   "id": "4e2caa08",
   "metadata": {},
   "source": [
    "## Task 7: Generate Python Code from Natural Language"
   ]
  },
  {
   "cell_type": "markdown",
   "id": "d5429730",
   "metadata": {},
   "source": [
    "This section allows you to generate Python code by providing natural language descriptions. It leverages OpenAI's GPT model to translate your instructions into functioning Python code."
   ]
  },
  {
   "cell_type": "code",
   "execution_count": null,
   "id": "6607173a",
   "metadata": {},
   "outputs": [],
   "source": [
    "def generate_python_code(description):\n",
    "    \"\"\"\n",
    "    Generate Python code from a natural language description\n",
    "    \n",
    "    Args:\n",
    "        description (str): Natural language description of the code functionality\n",
    "    \n",
    "    Returns:\n",
    "        str: Generated Python code\n",
    "    \"\"\"\n",
    "    system_prompt = \"\"\"You are an expert Python programmer. \n",
    "Your task is to generate clean, efficient, and well-commented Python code \n",
    "based on the user's description. Follow these guidelines:\n",
    "\n",
    "1. Use Pythonic code style and best practices\n",
    "2. Add helpful comments explaining complex logic\n",
    "3. Include docstrings for functions and classes\n",
    "4. Handle potential errors where appropriate\n",
    "5. Provide efficient solutions with appropriate data structures\n",
    "6. Only respond with valid Python code, no explanations outside of code comments\"\"\"\n",
    "    \n",
    "    chat_messages = [\n",
    "        {\"role\": \"system\", \"content\": system_prompt},\n",
    "        {\"role\": \"user\", \"content\": f\"Generate Python code for: {description}\"}\n",
    "    ]\n",
    "    \n",
    "    response = client.chat.completions.create(\n",
    "        model=\"gpt-3.5-turbo-1106\",\n",
    "        messages=chat_messages\n",
    "    )\n",
    "    \n",
    "    return response.choices[0].message.content"
   ]
  },
  {
   "cell_type": "markdown",
   "id": "70061282",
   "metadata": {},
   "source": [
    "### Example Code Generation Prompts"
   ]
  },
  {
   "cell_type": "markdown",
   "id": "48b08573",
   "metadata": {},
   "source": [
    "Here are some example prompts you can use to generate Python code:"
   ]
  },
  {
   "cell_type": "code",
   "execution_count": null,
   "id": "80e1def4",
   "metadata": {},
   "outputs": [],
   "source": [
    "# Example 1: Data Processing\n",
    "data_processing_prompt = \"\"\"Create a function that reads a CSV file containing sales data (columns: date, product_id, quantity, price), \n",
    "calculates the total revenue per product, and returns the top 5 products by revenue.\"\"\"\n",
    "\n",
    "# Example 2: Web Scraping\n",
    "web_scraping_prompt = \"\"\"Write a script using BeautifulSoup and requests to scrape a weather website for the 5-day forecast of a given city, \n",
    "and save the results to a JSON file.\"\"\"\n",
    "\n",
    "# Example 3: Algorithm Implementation\n",
    "algorithm_prompt = \"\"\"Implement a binary search tree class with methods for insertion, deletion, search, and in-order traversal.\"\"\"\n",
    "\n",
    "# Example 4: Data Visualization\n",
    "visualization_prompt = \"\"\"Create a function that takes a pandas DataFrame with columns 'year' and 'temperature', \n",
    "and generates a line plot showing temperature trends over time with proper labeling and styling.\"\"\"\n",
    "\n",
    "# Example 5: API Integration\n",
    "api_prompt = \"\"\"Write a script that uses the requests library to fetch and display the latest news headlines from a News API, \n",
    "with error handling and rate limiting.\"\"\"\n",
    "\n",
    "# List of example prompts\n",
    "example_prompts = [\n",
    "    data_processing_prompt,\n",
    "    web_scraping_prompt,\n",
    "    algorithm_prompt,\n",
    "    visualization_prompt,\n",
    "    api_prompt\n",
    "]"
   ]
  },
  {
   "cell_type": "markdown",
   "id": "e26a99de",
   "metadata": {},
   "source": [
    "### Generate Code from a Example Prompt"
   ]
  },
  {
   "cell_type": "code",
   "execution_count": null,
   "id": "bc96a2a7",
   "metadata": {},
   "outputs": [],
   "source": [
    "# Select an example prompt (you can change the index to try different examples)\n",
    "selected_prompt_index = 0  # 0-based index for the example_prompts list\n",
    "selected_prompt = example_prompts[selected_prompt_index]\n",
    "\n",
    "print(f\"Selected prompt:\\n{selected_prompt}\\n\")\n",
    "print(\"Generating code...\\n\")\n",
    "\n",
    "# Generate code from the selected prompt\n",
    "generated_code = generate_python_code(selected_prompt)\n",
    "\n",
    "print(\"Generated Python Code:\")\n",
    "print(generated_code)"
   ]
  },
  {
   "cell_type": "markdown",
   "id": "d6075670",
   "metadata": {},
   "source": [
    "### Generate Custom Code"
   ]
  },
  {
   "cell_type": "code",
   "execution_count": null,
   "id": "4adda798",
   "metadata": {},
   "outputs": [],
   "source": [
    "# Enter your custom code generation prompt\n",
    "custom_prompt = \"\"\"Create a function that takes a text string and returns the most frequent words and their counts as a dictionary,\n",
    "ignoring common stop words like 'the', 'a', 'and', etc.\"\"\"  # Replace with your own description\n",
    "\n",
    "print(f\"Custom prompt:\\n{custom_prompt}\\n\")\n",
    "print(\"Generating code...\\n\")\n",
    "\n",
    "# Generate code from the custom prompt\n",
    "custom_generated_code = generate_python_code(custom_prompt)\n",
    "\n",
    "print(\"Generated Python Code:\")\n",
    "print(custom_generated_code)"
   ]
  },
  {
   "cell_type": "markdown",
   "id": "b56b3c88",
   "metadata": {},
   "source": [
    "### Execute Generated Code (Optional)"
   ]
  },
  {
   "cell_type": "code",
   "execution_count": null,
   "id": "0856d528",
   "metadata": {},
   "outputs": [],
   "source": [
    "# Create a new cell and paste the generated code there to test it\n",
    "# Make sure to replace any input data with actual values for testing\n",
    "\n",
    "# Example execution cell:\n",
    "# (Uncomment and paste your generated code below)\n",
    "\n",
    "# <paste generated code here>"
   ]
  },
  {
   "cell_type": "markdown",
   "id": "9e0b0735",
   "metadata": {},
   "source": [
    "### Save Generated Code to File (Optional)"
   ]
  },
  {
   "cell_type": "code",
   "execution_count": null,
   "id": "b6f312fb",
   "metadata": {},
   "outputs": [],
   "source": [
    "def save_code_to_file(code, filename=\"generated_code.py\"):\n",
    "    \"\"\"Save generated code to a Python file\"\"\"\n",
    "    try:\n",
    "        # Create a 'generated_code' folder if it doesn't exist\n",
    "        code_folder = \"./generated_code\"\n",
    "        if not os.path.exists(code_folder):\n",
    "            os.makedirs(code_folder)\n",
    "        \n",
    "        file_path = os.path.join(code_folder, filename)\n",
    "        \n",
    "        with open(file_path, \"w\", encoding=\"utf-8\") as file:\n",
    "            file.write(code)\n",
    "            \n",
    "        print(f\"✅ Code successfully saved to: {file_path}\")\n",
    "        return file_path\n",
    "    except Exception as e:\n",
    "        print(f\"❌ Error saving code to file: {e}\")\n",
    "        return None\n",
    "\n",
    "# Save the custom generated code\n",
    "# Uncomment to save:\n",
    "# saved_file_path = save_code_to_file(custom_generated_code, \"word_frequency_counter.py\")"
   ]
  }
 ],
 "metadata": {
  "kernelspec": {
   "display_name": ".venv",
   "language": "python",
   "name": "python3"
  },
  "language_info": {
   "codemirror_mode": {
    "name": "ipython",
    "version": 3
   },
   "file_extension": ".py",
   "mimetype": "text/x-python",
   "name": "python",
   "nbconvert_exporter": "python",
   "pygments_lexer": "ipython3",
   "version": "3.12.5"
  }
 },
 "nbformat": 4,
 "nbformat_minor": 5
}
