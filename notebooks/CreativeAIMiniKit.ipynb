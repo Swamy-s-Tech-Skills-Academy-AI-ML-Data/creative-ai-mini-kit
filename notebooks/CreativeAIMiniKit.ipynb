{
 "cells": [
  {
   "cell_type": "markdown",
   "id": "706dbf20",
   "metadata": {},
   "source": [
    "# Exploring OpenAI API"
   ]
  },
  {
   "cell_type": "markdown",
   "id": "d98a231e",
   "metadata": {},
   "source": [
    "## Task 1: Import Modules and Packages"
   ]
  },
  {
   "cell_type": "code",
   "execution_count": 1,
   "id": "b693f6a0",
   "metadata": {},
   "outputs": [],
   "source": [
    "from openai import OpenAI\n",
    "import pandas as pd\n",
    "import requests\n",
    "from datetime import datetime\n",
    "from pprint import pprint\n",
    "import tiktoken\n",
    "from pypdf import PdfReader\n",
    "from IPython.display import Image, Markdown, display\n",
    "import os\n",
    "import matplotlib.pyplot as plt\n",
    "import matplotlib.image as mpimg"
   ]
  }
 ],
 "metadata": {
  "kernelspec": {
   "display_name": ".venv",
   "language": "python",
   "name": "python3"
  },
  "language_info": {
   "codemirror_mode": {
    "name": "ipython",
    "version": 3
   },
   "file_extension": ".py",
   "mimetype": "text/x-python",
   "name": "python",
   "nbconvert_exporter": "python",
   "pygments_lexer": "ipython3",
   "version": "3.12.5"
  }
 },
 "nbformat": 4,
 "nbformat_minor": 5
}
