{
 "cells": [
  {
   "cell_type": "markdown",
   "id": "706dbf20",
   "metadata": {},
   "source": [
    "# Exploring OpenAI API"
   ]
  },
  {
   "cell_type": "markdown",
   "id": "d98a231e",
   "metadata": {},
   "source": [
    "## Task 1: Import Modules and Packages"
   ]
  },
  {
   "cell_type": "code",
   "execution_count": null,
   "id": "b693f6a0",
   "metadata": {},
   "outputs": [],
   "source": [
    "from openai import OpenAI\n",
    "import pandas as pd\n",
    "import requests\n",
    "from datetime import datetime\n",
    "from pprint import pprint\n",
    "import tiktoken\n",
    "from pypdf import PdfReader\n",
    "from IPython.display import Image, Markdown, display\n",
    "import os\n",
    "import matplotlib.pyplot as plt\n",
    "import matplotlib.image as mpimg"
   ]
  },
  {
   "cell_type": "markdown",
   "id": "81dead61",
   "metadata": {},
   "source": [
    "## Task 2: Set the API Key"
   ]
  },
  {
   "cell_type": "code",
   "execution_count": null,
   "id": "ee880dd4",
   "metadata": {},
   "outputs": [],
   "source": [
    "client = OpenAI(api_key=os.getenv(\"OPENAI_API_KEY\"))"
   ]
  },
  {
   "cell_type": "markdown",
   "id": "0538ca94",
   "metadata": {},
   "source": [
    "## Task 2.1: Set Pandas Options"
   ]
  },
  {
   "cell_type": "code",
   "execution_count": null,
   "id": "80252e38",
   "metadata": {},
   "outputs": [],
   "source": [
    "pd.set_option('display.max_colwidth', None)\n",
    "\n",
    "\n",
    "def pp(df):\n",
    "    return display(df.style.set_properties(subset=['emails'], **{'text-align': 'left', 'white-space': 'pre-wrap', 'width': '900px'}))"
   ]
  },
  {
   "cell_type": "markdown",
   "id": "ec9a9289",
   "metadata": {},
   "source": [
    "## Task X: Create Variables"
   ]
  },
  {
   "cell_type": "code",
   "execution_count": 19,
   "id": "8aeab7cc",
   "metadata": {},
   "outputs": [],
   "source": [
    "# Path to the 'reviews' folder\n",
    "reviews_folder = \"./reviews\"\n",
    "\n",
    "# Path to the 'emails' folder\n",
    "emails_folder = \"./emails\"\n",
    "\n",
    "# List of reviews\n",
    "reviews = [\n",
    "    \"Nice socks, great colors, just enough support for wearing with a good pair of sneakers.\",\n",
    "    \"Love Deborah Harness's Trilogy! Didn't want the story to end and hope they turn this trilogy into a movie. I would love it if she wrote more books to continue this story!!!\",\n",
    "    \"SO much quieter than other compressors. VERY quick as well. You will not regret this purchase.\",\n",
    "    \"Shirt a bit too long, with heavy hem, which inhibits turning over. I cut off the bottom two inches all around, and am now somewhat comfortable. Overall, material is a bit too heavy for my liking.\",\n",
    "    \"The quality on these speakers is insanely good and doesn't sound muddy when adjusting bass. Very happy with these.\",\n",
    "    \"Beautiful watch face. The band looks nice all around. The links do make that squeaky cheapo noise when you swing it back and forth on your wrist which can be embarrassing in front of watch enthusiasts. However, to the naked eye from afar, you can't tell the links are cheap or folded because it is well polished and brushed and the folds are pretty tight for the most part. love the new member of my collection and it looks great. I've had it for about a week and so far it has kept good time despite day 1 which is typical of a new mechanical watch.\"\n",
    "]"
   ]
  },
  {
   "cell_type": "markdown",
   "id": "8db7f9b2",
   "metadata": {},
   "source": [
    "## Task X. Create the reviews .txt files if not already present"
   ]
  },
  {
   "cell_type": "code",
   "execution_count": null,
   "id": "c316daaa",
   "metadata": {},
   "outputs": [],
   "source": [
    "# Create the review files in the 'emails' folder with error handling\n",
    "for i, review in enumerate(reviews, start=1):\n",
    "    file_path = os.path.join(reviews_folder, f\"review{i}.txt\")\n",
    "    try:\n",
    "        with open(file_path, \"w\", encoding=\"utf-8\") as file:\n",
    "            file.write(review)\n",
    "        print(f\"✅ Successfully created: {file_path}\")\n",
    "    except OSError as e:\n",
    "        print(f\"❌ Error writing to {file_path}: {e}\")\n",
    "\n",
    "print(\n",
    "    f\"\\nAll review files have been created in the '{reviews_folder}' folder.\")"
   ]
  },
  {
   "cell_type": "markdown",
   "id": "59935b04",
   "metadata": {},
   "source": [
    "## Task x: Read the Reviews from the .txt files"
   ]
  },
  {
   "cell_type": "code",
   "execution_count": null,
   "id": "52b3bbe0",
   "metadata": {},
   "outputs": [],
   "source": [
    "# Ensure the folder exists before reading files\n",
    "if not os.path.exists(reviews_folder):\n",
    "    raise FileNotFoundError(\n",
    "        f\"The folder '{reviews_folder}' does not exist. Please create it and add review files.\")\n",
    "\n",
    "# Read all .txt files from the 'reviews' folder\n",
    "reviews = []\n",
    "for filename in sorted(os.listdir(reviews_folder)):\n",
    "    if filename.endswith(\".txt\"):\n",
    "        file_path = os.path.join(reviews_folder, filename)\n",
    "        with open(file_path, \"r\", encoding=\"utf-8\") as file:\n",
    "            reviews.append(file.read().strip())\n",
    "\n",
    "# Load reviews into a DataFrame\n",
    "columns = ['reviews', 'emails']\n",
    "df = pd.DataFrame(columns=columns)\n",
    "df['reviews'] = reviews\n",
    "\n",
    "# Display the DataFrame\n",
    "df.head()"
   ]
  },
  {
   "cell_type": "markdown",
   "id": "ae932b46",
   "metadata": {},
   "source": [
    "## Task x: Generate Emails for Reviews"
   ]
  },
  {
   "cell_type": "code",
   "execution_count": null,
   "id": "0493344e",
   "metadata": {},
   "outputs": [],
   "source": [
    "chat = [{\"role\": \"system\",\n",
    "         \"content\": \"You are a polite customer support representative.\"}]\n",
    "\n",
    "postfix = (\n",
    "    \"\\n\\nWrite a professional email responding to customer reviews.\\n\"\n",
    "    \"- Thank customers for positive feedback.\\n\"\n",
    "    \"- Acknowledge and address concerns professionally.\\n\"\n",
    "    \"- Encourage continued engagement with the brand.\\n\"\n",
    "    \"- Keep responses brief and highly professional.\\n\"\n",
    "    \"- Do not offer promotions, discounts, or recommend other products.\"\n",
    ")\n",
    "\n",
    "\n",
    "def getMail(review):\n",
    "    chat_history = chat.copy()\n",
    "    chat_history.append({\"role\": \"user\", \"content\": review+postfix})\n",
    "\n",
    "    reply = client.chat.completions.create(\n",
    "        model=\"gpt-3.5-turbo-1106\",\n",
    "        messages=chat_history\n",
    "    )\n",
    "\n",
    "    return reply.choices[0].message.content\n",
    "\n",
    "\n",
    "df['emails'] = df.apply(lambda x: getMail(x.reviews), axis=1)\n",
    "pp(df)"
   ]
  }
 ],
 "metadata": {
  "kernelspec": {
   "display_name": ".venv",
   "language": "python",
   "name": "python3"
  },
  "language_info": {
   "codemirror_mode": {
    "name": "ipython",
    "version": 3
   },
   "file_extension": ".py",
   "mimetype": "text/x-python",
   "name": "python",
   "nbconvert_exporter": "python",
   "pygments_lexer": "ipython3",
   "version": "3.12.5"
  }
 },
 "nbformat": 4,
 "nbformat_minor": 5
}
