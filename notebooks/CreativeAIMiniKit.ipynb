{
 "cells": [
  {
   "cell_type": "markdown",
   "id": "706dbf20",
   "metadata": {},
   "source": [
    "# Exploring OpenAI API"
   ]
  },
  {
   "cell_type": "markdown",
   "id": "d98a231e",
   "metadata": {},
   "source": [
    "## Task 1: Import Modules and Packages"
   ]
  },
  {
   "cell_type": "code",
   "execution_count": 11,
   "id": "b693f6a0",
   "metadata": {},
   "outputs": [],
   "source": [
    "from openai import OpenAI\n",
    "import pandas as pd\n",
    "import requests\n",
    "from datetime import datetime\n",
    "from pprint import pprint\n",
    "import tiktoken\n",
    "from pypdf import PdfReader\n",
    "from IPython.display import Image, Markdown, display\n",
    "import os\n",
    "import matplotlib.pyplot as plt\n",
    "import matplotlib.image as mpimg"
   ]
  },
  {
   "cell_type": "markdown",
   "id": "81dead61",
   "metadata": {},
   "source": [
    "## Task 2: Set the API Key"
   ]
  },
  {
   "cell_type": "code",
   "execution_count": null,
   "id": "ee880dd4",
   "metadata": {},
   "outputs": [],
   "source": [
    "client = OpenAI(api_key=os.getenv(\"OPENAI_API_KEY\"))"
   ]
  },
  {
   "cell_type": "markdown",
   "id": "0538ca94",
   "metadata": {},
   "source": [
    "## Task 2.1: Set Pandas Options"
   ]
  },
  {
   "cell_type": "code",
   "execution_count": 12,
   "id": "80252e38",
   "metadata": {},
   "outputs": [],
   "source": [
    "pd.set_option('display.max_colwidth', None)\n",
    "\n",
    "\n",
    "def pp(df):\n",
    "    return display(df.style.set_properties(subset=['emails'], **{'text-align': 'left', 'white-space': 'pre-wrap', 'width': '900px'}))"
   ]
  },
  {
   "cell_type": "markdown",
   "id": "ec9a9289",
   "metadata": {},
   "source": [
    "## Task X: Create Variables"
   ]
  },
  {
   "cell_type": "code",
   "execution_count": 13,
   "id": "8aeab7cc",
   "metadata": {},
   "outputs": [],
   "source": [
    "# Path to the 'reviews' folder\n",
    "reviews_folder = \"./reviews\"\n",
    "\n",
    "# List of reviews\n",
    "reviews = [\n",
    "    \"Nice socks, great colors, just enough support for wearing with a good pair of sneakers.\",\n",
    "    \"Love Deborah Harness's Trilogy! Didn't want the story to end and hope they turn this trilogy into a movie. I would love it if she wrote more books to continue this story!!!\",\n",
    "    \"SO much quieter than other compressors. VERY quick as well. You will not regret this purchase.\",\n",
    "    \"Shirt a bit too long, with heavy hem, which inhibits turning over. I cut off the bottom two inches all around, and am now somewhat comfortable. Overall, material is a bit too heavy for my liking.\",\n",
    "    \"The quality on these speakers is insanely good and doesn't sound muddy when adjusting bass. Very happy with these.\",\n",
    "    \"Beautiful watch face. The band looks nice all around. The links do make that squeaky cheapo noise when you swing it back and forth on your wrist which can be embarrassing in front of watch enthusiasts. However, to the naked eye from afar, you can't tell the links are cheap or folded because it is well polished and brushed and the folds are pretty tight for the most part. love the new member of my collection and it looks great. I've had it for about a week and so far it has kept good time despite day 1 which is typical of a new mechanical watch.\"\n",
    "]"
   ]
  },
  {
   "cell_type": "markdown",
   "id": "8db7f9b2",
   "metadata": {},
   "source": [
    "## Task X. Create the reviews .txt files if not already present"
   ]
  },
  {
   "cell_type": "code",
   "execution_count": 14,
   "id": "c316daaa",
   "metadata": {},
   "outputs": [
    {
     "name": "stdout",
     "output_type": "stream",
     "text": [
      "✅ Successfully created: ./reviews\\review1.txt\n",
      "✅ Successfully created: ./reviews\\review2.txt\n",
      "✅ Successfully created: ./reviews\\review3.txt\n",
      "✅ Successfully created: ./reviews\\review4.txt\n",
      "✅ Successfully created: ./reviews\\review5.txt\n",
      "✅ Successfully created: ./reviews\\review6.txt\n",
      "\n",
      "All review files have been created in the './reviews' folder.\n"
     ]
    }
   ],
   "source": [
    "# Create the review files in the 'emails' folder with error handling\n",
    "for i, review in enumerate(reviews, start=1):\n",
    "    file_path = os.path.join(reviews_folder, f\"review{i}.txt\")\n",
    "    try:\n",
    "        with open(file_path, \"w\", encoding=\"utf-8\") as file:\n",
    "            file.write(review)\n",
    "        print(f\"✅ Successfully created: {file_path}\")\n",
    "    except OSError as e:\n",
    "        print(f\"❌ Error writing to {file_path}: {e}\")\n",
    "\n",
    "print(\n",
    "    f\"\\nAll review files have been created in the '{reviews_folder}' folder.\")"
   ]
  },
  {
   "cell_type": "markdown",
   "id": "59935b04",
   "metadata": {},
   "source": [
    "## Task x: Read the Reviews from the .txt files"
   ]
  },
  {
   "cell_type": "code",
   "execution_count": 15,
   "id": "52b3bbe0",
   "metadata": {},
   "outputs": [
    {
     "data": {
      "text/html": [
       "<div>\n",
       "<style scoped>\n",
       "    .dataframe tbody tr th:only-of-type {\n",
       "        vertical-align: middle;\n",
       "    }\n",
       "\n",
       "    .dataframe tbody tr th {\n",
       "        vertical-align: top;\n",
       "    }\n",
       "\n",
       "    .dataframe thead th {\n",
       "        text-align: right;\n",
       "    }\n",
       "</style>\n",
       "<table border=\"1\" class=\"dataframe\">\n",
       "  <thead>\n",
       "    <tr style=\"text-align: right;\">\n",
       "      <th></th>\n",
       "      <th>reviews</th>\n",
       "      <th>emails</th>\n",
       "    </tr>\n",
       "  </thead>\n",
       "  <tbody>\n",
       "    <tr>\n",
       "      <th>0</th>\n",
       "      <td>Nice socks, great colors, just enough support for wearing with a good pair of sneakers.</td>\n",
       "      <td>NaN</td>\n",
       "    </tr>\n",
       "    <tr>\n",
       "      <th>1</th>\n",
       "      <td>Love Deborah Harness's Trilogy! Didn't want the story to end and hope they turn this trilogy into a movie. I would love it if she wrote more books to continue this story!!!</td>\n",
       "      <td>NaN</td>\n",
       "    </tr>\n",
       "    <tr>\n",
       "      <th>2</th>\n",
       "      <td>SO much quieter than other compressors. VERY quick as well. You will not regret this purchase.</td>\n",
       "      <td>NaN</td>\n",
       "    </tr>\n",
       "    <tr>\n",
       "      <th>3</th>\n",
       "      <td>Shirt a bit too long, with heavy hem, which inhibits turning over. I cut off the bottom two inches all around, and am now somewhat comfortable. Overall, material is a bit too heavy for my liking.</td>\n",
       "      <td>NaN</td>\n",
       "    </tr>\n",
       "    <tr>\n",
       "      <th>4</th>\n",
       "      <td>The quality on these speakers is insanely good and doesn't sound muddy when adjusting bass. Very happy with these.</td>\n",
       "      <td>NaN</td>\n",
       "    </tr>\n",
       "  </tbody>\n",
       "</table>\n",
       "</div>"
      ],
      "text/plain": [
       "                                                                                                                                                                                               reviews  \\\n",
       "0                                                                                                              Nice socks, great colors, just enough support for wearing with a good pair of sneakers.   \n",
       "1                         Love Deborah Harness's Trilogy! Didn't want the story to end and hope they turn this trilogy into a movie. I would love it if she wrote more books to continue this story!!!   \n",
       "2                                                                                                       SO much quieter than other compressors. VERY quick as well. You will not regret this purchase.   \n",
       "3  Shirt a bit too long, with heavy hem, which inhibits turning over. I cut off the bottom two inches all around, and am now somewhat comfortable. Overall, material is a bit too heavy for my liking.   \n",
       "4                                                                                   The quality on these speakers is insanely good and doesn't sound muddy when adjusting bass. Very happy with these.   \n",
       "\n",
       "  emails  \n",
       "0    NaN  \n",
       "1    NaN  \n",
       "2    NaN  \n",
       "3    NaN  \n",
       "4    NaN  "
      ]
     },
     "execution_count": 15,
     "metadata": {},
     "output_type": "execute_result"
    }
   ],
   "source": [
    "# Ensure the folder exists before reading files\n",
    "if not os.path.exists(reviews_folder):\n",
    "    raise FileNotFoundError(\n",
    "        f\"The folder '{reviews_folder}' does not exist. Please create it and add review files.\")\n",
    "\n",
    "# Read all .txt files from the 'reviews' folder\n",
    "reviews = []\n",
    "for filename in sorted(os.listdir(reviews_folder)):\n",
    "    if filename.endswith(\".txt\"):\n",
    "        file_path = os.path.join(reviews_folder, filename)\n",
    "        with open(file_path, \"r\", encoding=\"utf-8\") as file:\n",
    "            reviews.append(file.read().strip())\n",
    "\n",
    "# Load reviews into a DataFrame\n",
    "columns = ['reviews', 'emails']\n",
    "df = pd.DataFrame(columns=columns)\n",
    "df['reviews'] = reviews\n",
    "\n",
    "# Display the DataFrame\n",
    "df.head()"
   ]
  },
  {
   "cell_type": "markdown",
   "id": "ae932b46",
   "metadata": {},
   "source": [
    "## Task x: Generate Emails for Reviews"
   ]
  },
  {
   "cell_type": "code",
   "execution_count": 17,
   "id": "0493344e",
   "metadata": {},
   "outputs": [
    {
     "data": {
      "text/html": [
       "<style type=\"text/css\">\n",
       "#T_338bb_row0_col1, #T_338bb_row1_col1, #T_338bb_row2_col1, #T_338bb_row3_col1, #T_338bb_row4_col1, #T_338bb_row5_col1 {\n",
       "  text-align: left;\n",
       "  white-space: pre-wrap;\n",
       "  width: 900px;\n",
       "}\n",
       "</style>\n",
       "<table id=\"T_338bb\">\n",
       "  <thead>\n",
       "    <tr>\n",
       "      <th class=\"blank level0\" >&nbsp;</th>\n",
       "      <th id=\"T_338bb_level0_col0\" class=\"col_heading level0 col0\" >reviews</th>\n",
       "      <th id=\"T_338bb_level0_col1\" class=\"col_heading level0 col1\" >emails</th>\n",
       "    </tr>\n",
       "  </thead>\n",
       "  <tbody>\n",
       "    <tr>\n",
       "      <th id=\"T_338bb_level0_row0\" class=\"row_heading level0 row0\" >0</th>\n",
       "      <td id=\"T_338bb_row0_col0\" class=\"data row0 col0\" >Nice socks, great colors, just enough support for wearing with a good pair of sneakers.</td>\n",
       "      <td id=\"T_338bb_row0_col1\" class=\"data row0 col1\" >Subject: Thank You for Your Feedback\n",
       "\n",
       "Dear [Customer],\n",
       "\n",
       "Thank you for taking the time to leave a review about our socks. We are thrilled to hear that you are pleased with the colors and support they provide, and that they work well with your sneakers.\n",
       "\n",
       "We want to address any concerns you may have. If there is anything that we can do to improve your experience with our products, please do not hesitate to reach out to us.\n",
       "\n",
       "We appreciate your engagement with our brand and hope to continue providing high-quality products for your satisfaction.\n",
       "\n",
       "Thank you again for your feedback.\n",
       "\n",
       "Best regards,\n",
       "\n",
       "[Your Name]\n",
       "Customer Support Team</td>\n",
       "    </tr>\n",
       "    <tr>\n",
       "      <th id=\"T_338bb_level0_row1\" class=\"row_heading level0 row1\" >1</th>\n",
       "      <td id=\"T_338bb_row1_col0\" class=\"data row1 col0\" >Love Deborah Harness's Trilogy! Didn't want the story to end and hope they turn this trilogy into a movie. I would love it if she wrote more books to continue this story!!!</td>\n",
       "      <td id=\"T_338bb_row1_col1\" class=\"data row1 col1\" >Subject: Thank You for Your Feedback\n",
       "\n",
       "Dear [Customer],\n",
       "\n",
       "Thank you for sharing your positive feedback about Deborah Harkness's Trilogy. We're delighted to hear that you enjoyed the story and would like to see it turned into a movie. Your support means a lot to us.\n",
       "\n",
       "While we appreciate your enthusiasm for the series, we currently do not have plans for a movie adaptation or continuation of the story. However, we encourage you to stay engaged with the author's work and our brand for any future updates.\n",
       "\n",
       "Thank you once again for sharing your thoughts. We value your input and are grateful for your support.\n",
       "\n",
       "Best regards,\n",
       "[Your Name]\n",
       "Customer Support Team</td>\n",
       "    </tr>\n",
       "    <tr>\n",
       "      <th id=\"T_338bb_level0_row2\" class=\"row_heading level0 row2\" >2</th>\n",
       "      <td id=\"T_338bb_row2_col0\" class=\"data row2 col0\" >SO much quieter than other compressors. VERY quick as well. You will not regret this purchase.</td>\n",
       "      <td id=\"T_338bb_row2_col1\" class=\"data row2 col1\" >Subject: Thank You for Your Feedback\n",
       "\n",
       "Dear valued customer,\n",
       "\n",
       "Thank you for taking the time to leave a positive review for our compressor. We are pleased to hear that you found it to be quieter and quicker than other models. Your satisfaction is very important to us.\n",
       "\n",
       "We take customer feedback seriously and strive to continuously improve our products. If you have any concerns or suggestions, please feel free to reach out to our customer support team. We are here to assist you.\n",
       "\n",
       "We appreciate your support and encourage you to stay engaged with our brand. Your feedback is invaluable in helping us maintain the quality of our products and service.\n",
       "\n",
       "Thank you once again for choosing our compressor.\n",
       "\n",
       "Sincerely,\n",
       "[Your Name]\n",
       "Customer Support Team</td>\n",
       "    </tr>\n",
       "    <tr>\n",
       "      <th id=\"T_338bb_level0_row3\" class=\"row_heading level0 row3\" >3</th>\n",
       "      <td id=\"T_338bb_row3_col0\" class=\"data row3 col0\" >Shirt a bit too long, with heavy hem, which inhibits turning over. I cut off the bottom two inches all around, and am now somewhat comfortable. Overall, material is a bit too heavy for my liking.</td>\n",
       "      <td id=\"T_338bb_row3_col1\" class=\"data row3 col1\" >Dear [Customer],\n",
       "\n",
       "Thank you for taking the time to share your feedback with us. We're glad to hear that you are somewhat comfortable with the adjustments made to the shirt. We have noted your concerns about the heavy material and the hem inhibiting turning over, and we will certainly take this into consideration for future product development.\n",
       "\n",
       "We appreciate your support and hope you continue to engage with our brand. If you have any further feedback or questions, please don't hesitate to reach out.\n",
       "\n",
       "Thank you again for your valuable input.\n",
       "\n",
       "Sincerely,\n",
       "[Your Name]\n",
       "Customer Support</td>\n",
       "    </tr>\n",
       "    <tr>\n",
       "      <th id=\"T_338bb_level0_row4\" class=\"row_heading level0 row4\" >4</th>\n",
       "      <td id=\"T_338bb_row4_col0\" class=\"data row4 col0\" >The quality on these speakers is insanely good and doesn't sound muddy when adjusting bass. Very happy with these.</td>\n",
       "      <td id=\"T_338bb_row4_col1\" class=\"data row4 col1\" >Subject: Thank You for Your Feedback\n",
       "\n",
       "Dear [Customer],\n",
       "\n",
       "Thank you for taking the time to leave a positive review of our speakers. We are thrilled to hear that you are happy with the quality and performance. Your feedback is appreciated and valued by our team.\n",
       "\n",
       "We are committed to delivering the best sound experience, and we are delighted that you have found our speakers to meet your expectations.\n",
       "\n",
       "If you have any further feedback or questions, please feel free to reach out. We look forward to serving you again in the future.\n",
       "\n",
       "Thank you for choosing our brand.\n",
       "\n",
       "Warm regards,\n",
       "[Your Name]\n",
       "Customer Support Team</td>\n",
       "    </tr>\n",
       "    <tr>\n",
       "      <th id=\"T_338bb_level0_row5\" class=\"row_heading level0 row5\" >5</th>\n",
       "      <td id=\"T_338bb_row5_col0\" class=\"data row5 col0\" >Beautiful watch face. The band looks nice all around. The links do make that squeaky cheapo noise when you swing it back and forth on your wrist which can be embarrassing in front of watch enthusiasts. However, to the naked eye from afar, you can't tell the links are cheap or folded because it is well polished and brushed and the folds are pretty tight for the most part. love the new member of my collection and it looks great. I've had it for about a week and so far it has kept good time despite day 1 which is typical of a new mechanical watch.</td>\n",
       "      <td id=\"T_338bb_row5_col1\" class=\"data row5 col1\" >Dear valued customer,\n",
       "\n",
       "Thank you for taking the time to share your positive feedback regarding your new watch. We appreciate your kind words about the overall appearance and performance of the timepiece.\n",
       "\n",
       "We also understand and take note of your concerns regarding the noise and initial timekeeping of the watch. We are continuously working to improve our products, and your feedback will be shared with our product development team.\n",
       "\n",
       "We hope you continue to enjoy your new addition to your collection and thank you for choosing our brand. If you have any further feedback or questions, please do not hesitate to reach out.\n",
       "\n",
       "Best regards,\n",
       "\n",
       "[Your Name]\n",
       "Customer Support</td>\n",
       "    </tr>\n",
       "  </tbody>\n",
       "</table>\n"
      ],
      "text/plain": [
       "<pandas.io.formats.style.Styler at 0x244c10a0e00>"
      ]
     },
     "metadata": {},
     "output_type": "display_data"
    }
   ],
   "source": [
    "chat = [{\"role\": \"system\",\n",
    "         \"content\": \"You are a polite customer support representative.\"}]\n",
    "\n",
    "postfix = (\n",
    "    \"\\n\\nWrite a professional email responding to customer reviews.\\n\"\n",
    "    \"- Thank customers for positive feedback.\\n\"\n",
    "    \"- Acknowledge and address concerns professionally.\\n\"\n",
    "    \"- Encourage continued engagement with the brand.\\n\"\n",
    "    \"- Keep responses brief and highly professional.\\n\"\n",
    "    \"- Do not offer promotions, discounts, or recommend other products.\"\n",
    ")\n",
    "\n",
    "\n",
    "def getMail(review):\n",
    "    chat_history = chat.copy()\n",
    "    chat_history.append({\"role\": \"user\", \"content\": review+postfix})\n",
    "\n",
    "    reply = client.chat.completions.create(\n",
    "        model=\"gpt-3.5-turbo-1106\",\n",
    "        messages=chat_history\n",
    "    )\n",
    "\n",
    "    return reply.choices[0].message.content\n",
    "\n",
    "\n",
    "df['emails'] = df.apply(lambda x: getMail(x.reviews), axis=1)\n",
    "pp(df)"
   ]
  }
 ],
 "metadata": {
  "kernelspec": {
   "display_name": ".venv",
   "language": "python",
   "name": "python3"
  },
  "language_info": {
   "codemirror_mode": {
    "name": "ipython",
    "version": 3
   },
   "file_extension": ".py",
   "mimetype": "text/x-python",
   "name": "python",
   "nbconvert_exporter": "python",
   "pygments_lexer": "ipython3",
   "version": "3.12.5"
  }
 },
 "nbformat": 4,
 "nbformat_minor": 5
}
